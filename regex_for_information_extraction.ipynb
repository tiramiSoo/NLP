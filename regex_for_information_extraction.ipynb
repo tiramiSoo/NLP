{
 "cells": [
  {
   "cell_type": "markdown",
   "metadata": {},
   "source": [
    "1 - Regex in customer support"
   ]
  },
  {
   "cell_type": "markdown",
   "metadata": {},
   "source": [
    "Retrieve phone number and email"
   ]
  },
  {
   "cell_type": "code",
   "execution_count": 1,
   "metadata": {},
   "outputs": [],
   "source": [
    "import re\n",
    "\n",
    "chat1 = 'codebasics: you ask lot of questions 😠  1235678912, abc@xyz.com, 0123321456'\n",
    "chat2 = 'codebasics: here it is: (123)-567-8912, abC@xyz.com'\n",
    "chat3 = 'codebasics: yes, phone: 1235678912 email: abc_123@xyz.com'"
   ]
  },
  {
   "cell_type": "code",
   "execution_count": 2,
   "metadata": {},
   "outputs": [],
   "source": [
    "def get_pattern(pattern, text):\n",
    "    matches = re.findall(pattern, text)\n",
    "    if matches:\n",
    "        return matches[0]"
   ]
  },
  {
   "cell_type": "markdown",
   "metadata": {},
   "source": [
    "---Get phone number---\n"
   ]
  },
  {
   "cell_type": "code",
   "execution_count": 3,
   "metadata": {},
   "outputs": [
    {
     "name": "stderr",
     "output_type": "stream",
     "text": [
      "<>:1: SyntaxWarning: invalid escape sequence '\\d'\n",
      "<>:1: SyntaxWarning: invalid escape sequence '\\d'\n",
      "C:\\Users\\Dung Nguyxn\\AppData\\Local\\Temp\\ipykernel_104872\\1602298773.py:1: SyntaxWarning: invalid escape sequence '\\d'\n",
      "  get_pattern('\\d{10}|\\(\\d{3}\\)-\\d{3}-\\d{4}', chat1)\n"
     ]
    },
    {
     "data": {
      "text/plain": [
       "'1235678912'"
      ]
     },
     "execution_count": 3,
     "metadata": {},
     "output_type": "execute_result"
    }
   ],
   "source": [
    "get_pattern('\\d{10}|\\(\\d{3}\\)-\\d{3}-\\d{4}', chat1)"
   ]
  },
  {
   "cell_type": "code",
   "execution_count": 4,
   "metadata": {},
   "outputs": [
    {
     "name": "stderr",
     "output_type": "stream",
     "text": [
      "<>:1: SyntaxWarning: invalid escape sequence '\\d'\n",
      "<>:1: SyntaxWarning: invalid escape sequence '\\d'\n",
      "C:\\Users\\Dung Nguyxn\\AppData\\Local\\Temp\\ipykernel_104872\\624980629.py:1: SyntaxWarning: invalid escape sequence '\\d'\n",
      "  get_pattern('\\d{10}|\\(\\d{3}\\)-\\d{3}-\\d{4}', chat2)\n"
     ]
    },
    {
     "data": {
      "text/plain": [
       "'(123)-567-8912'"
      ]
     },
     "execution_count": 4,
     "metadata": {},
     "output_type": "execute_result"
    }
   ],
   "source": [
    "get_pattern('\\d{10}|\\(\\d{3}\\)-\\d{3}-\\d{4}', chat2)"
   ]
  },
  {
   "cell_type": "code",
   "execution_count": 5,
   "metadata": {},
   "outputs": [
    {
     "name": "stderr",
     "output_type": "stream",
     "text": [
      "<>:1: SyntaxWarning: invalid escape sequence '\\d'\n",
      "<>:1: SyntaxWarning: invalid escape sequence '\\d'\n",
      "C:\\Users\\Dung Nguyxn\\AppData\\Local\\Temp\\ipykernel_104872\\3169767094.py:1: SyntaxWarning: invalid escape sequence '\\d'\n",
      "  get_pattern('\\d{10}|\\(\\d{3}\\)-\\d{3}-\\d{4}', chat3)\n"
     ]
    },
    {
     "data": {
      "text/plain": [
       "'1235678912'"
      ]
     },
     "execution_count": 5,
     "metadata": {},
     "output_type": "execute_result"
    }
   ],
   "source": [
    "get_pattern('\\d{10}|\\(\\d{3}\\)-\\d{3}-\\d{4}', chat3)"
   ]
  },
  {
   "cell_type": "markdown",
   "metadata": {},
   "source": [
    "---Get email---"
   ]
  },
  {
   "cell_type": "code",
   "execution_count": 6,
   "metadata": {},
   "outputs": [
    {
     "name": "stderr",
     "output_type": "stream",
     "text": [
      "<>:1: SyntaxWarning: invalid escape sequence '\\.'\n",
      "<>:1: SyntaxWarning: invalid escape sequence '\\.'\n",
      "C:\\Users\\Dung Nguyxn\\AppData\\Local\\Temp\\ipykernel_104872\\3347768896.py:1: SyntaxWarning: invalid escape sequence '\\.'\n",
      "  get_pattern('[a-zA-Z0-9_]*@[a-zA-Z]*\\.[a-zA-Z]*', chat1)\n"
     ]
    },
    {
     "data": {
      "text/plain": [
       "'abc@xyz.com'"
      ]
     },
     "execution_count": 6,
     "metadata": {},
     "output_type": "execute_result"
    }
   ],
   "source": [
    "get_pattern('[a-zA-Z0-9_]*@[a-zA-Z]*\\.[a-zA-Z]*', chat1)"
   ]
  },
  {
   "cell_type": "code",
   "execution_count": 7,
   "metadata": {},
   "outputs": [
    {
     "name": "stderr",
     "output_type": "stream",
     "text": [
      "<>:1: SyntaxWarning: invalid escape sequence '\\.'\n",
      "<>:1: SyntaxWarning: invalid escape sequence '\\.'\n",
      "C:\\Users\\Dung Nguyxn\\AppData\\Local\\Temp\\ipykernel_104872\\311467482.py:1: SyntaxWarning: invalid escape sequence '\\.'\n",
      "  get_pattern('[a-zA-Z0-9_]*@[a-zA-Z]*\\.[a-zA-Z]*', chat2)\n"
     ]
    },
    {
     "data": {
      "text/plain": [
       "'abC@xyz.com'"
      ]
     },
     "execution_count": 7,
     "metadata": {},
     "output_type": "execute_result"
    }
   ],
   "source": [
    "get_pattern('[a-zA-Z0-9_]*@[a-zA-Z]*\\.[a-zA-Z]*', chat2)"
   ]
  },
  {
   "cell_type": "code",
   "execution_count": 8,
   "metadata": {},
   "outputs": [
    {
     "name": "stderr",
     "output_type": "stream",
     "text": [
      "<>:1: SyntaxWarning: invalid escape sequence '\\.'\n",
      "<>:1: SyntaxWarning: invalid escape sequence '\\.'\n",
      "C:\\Users\\Dung Nguyxn\\AppData\\Local\\Temp\\ipykernel_104872\\2589830214.py:1: SyntaxWarning: invalid escape sequence '\\.'\n",
      "  get_pattern('[a-zA-Z0-9_]*@[a-zA-Z]*\\.[a-zA-Z]*', chat3)\n"
     ]
    },
    {
     "data": {
      "text/plain": [
       "'abc_123@xyz.com'"
      ]
     },
     "execution_count": 8,
     "metadata": {},
     "output_type": "execute_result"
    }
   ],
   "source": [
    "get_pattern('[a-zA-Z0-9_]*@[a-zA-Z]*\\.[a-zA-Z]*', chat3)"
   ]
  },
  {
   "cell_type": "markdown",
   "metadata": {},
   "source": [
    "Retrieve order number"
   ]
  },
  {
   "cell_type": "code",
   "execution_count": 9,
   "metadata": {},
   "outputs": [],
   "source": [
    "chat4 = 'codebasics: Hello, I am having an issue with my order # 412889912'\n",
    "chat5 = 'codebasics: I have a problem with my order number 120381209381203'\n",
    "chat6 = 'codebasics: My order 919238211312 is having an issue, I was charged 300$ when online it says 280$'"
   ]
  },
  {
   "cell_type": "code",
   "execution_count": 10,
   "metadata": {},
   "outputs": [
    {
     "name": "stderr",
     "output_type": "stream",
     "text": [
      "<>:1: SyntaxWarning: invalid escape sequence '\\d'\n",
      "<>:1: SyntaxWarning: invalid escape sequence '\\d'\n",
      "C:\\Users\\Dung Nguyxn\\AppData\\Local\\Temp\\ipykernel_104872\\3256400806.py:1: SyntaxWarning: invalid escape sequence '\\d'\n",
      "  get_pattern('order[^\\d]*(\\d*)', chat4)\n"
     ]
    },
    {
     "data": {
      "text/plain": [
       "'412889912'"
      ]
     },
     "execution_count": 10,
     "metadata": {},
     "output_type": "execute_result"
    }
   ],
   "source": [
    "get_pattern('order[^\\d]*(\\d*)', chat4)"
   ]
  },
  {
   "cell_type": "code",
   "execution_count": 11,
   "metadata": {},
   "outputs": [
    {
     "name": "stderr",
     "output_type": "stream",
     "text": [
      "<>:1: SyntaxWarning: invalid escape sequence '\\d'\n",
      "<>:1: SyntaxWarning: invalid escape sequence '\\d'\n",
      "C:\\Users\\Dung Nguyxn\\AppData\\Local\\Temp\\ipykernel_104872\\2684463740.py:1: SyntaxWarning: invalid escape sequence '\\d'\n",
      "  get_pattern('order[^\\d]*(\\d*)', chat5)\n"
     ]
    },
    {
     "data": {
      "text/plain": [
       "'120381209381203'"
      ]
     },
     "execution_count": 11,
     "metadata": {},
     "output_type": "execute_result"
    }
   ],
   "source": [
    "get_pattern('order[^\\d]*(\\d*)', chat5)"
   ]
  },
  {
   "cell_type": "code",
   "execution_count": 12,
   "metadata": {},
   "outputs": [
    {
     "name": "stderr",
     "output_type": "stream",
     "text": [
      "<>:1: SyntaxWarning: invalid escape sequence '\\d'\n",
      "<>:1: SyntaxWarning: invalid escape sequence '\\d'\n",
      "C:\\Users\\Dung Nguyxn\\AppData\\Local\\Temp\\ipykernel_104872\\558915832.py:1: SyntaxWarning: invalid escape sequence '\\d'\n",
      "  get_pattern('order[^\\d]*(\\d*)', chat6)\n"
     ]
    },
    {
     "data": {
      "text/plain": [
       "'919238211312'"
      ]
     },
     "execution_count": 12,
     "metadata": {},
     "output_type": "execute_result"
    }
   ],
   "source": [
    "get_pattern('order[^\\d]*(\\d*)', chat6)"
   ]
  },
  {
   "cell_type": "markdown",
   "metadata": {},
   "source": [
    "2 - Regex in information extraction"
   ]
  },
  {
   "cell_type": "code",
   "execution_count": 13,
   "metadata": {},
   "outputs": [],
   "source": [
    "text='''\n",
    "Born\tElon Reeve Musk\n",
    "June 28, 1971 (age 50)\n",
    "Pretoria, Transvaal, South Africa\n",
    "Citizenship\t\n",
    "South Africa (1971–present)\n",
    "Canada (1971–present)\n",
    "United States (2002–present)\n",
    "Education\tUniversity of Pennsylvania (BS, BA)\n",
    "Title\t\n",
    "Founder, CEO and Chief Engineer of SpaceX\n",
    "CEO and product architect of Tesla, Inc.\n",
    "Founder of The Boring Company and X.com (now part of PayPal)\n",
    "Co-founder of Neuralink, OpenAI, and Zip2\n",
    "Spouse(s)\t\n",
    "Justine Wilson\n",
    "​\n",
    "​(m. 2000; div. 2008)​\n",
    "Talulah Riley\n",
    "​\n",
    "​(m. 2010; div. 2012)​\n",
    "​\n",
    "​(m. 2013; div. 2016)\n",
    "'''"
   ]
  },
  {
   "cell_type": "code",
   "execution_count": 14,
   "metadata": {},
   "outputs": [
    {
     "name": "stderr",
     "output_type": "stream",
     "text": [
      "<>:2: SyntaxWarning: invalid escape sequence '\\d'\n",
      "<>:4: SyntaxWarning: invalid escape sequence '\\('\n",
      "<>:5: SyntaxWarning: invalid escape sequence '\\('\n",
      "<>:2: SyntaxWarning: invalid escape sequence '\\d'\n",
      "<>:4: SyntaxWarning: invalid escape sequence '\\('\n",
      "<>:5: SyntaxWarning: invalid escape sequence '\\('\n",
      "C:\\Users\\Dung Nguyxn\\AppData\\Local\\Temp\\ipykernel_104872\\1247698762.py:2: SyntaxWarning: invalid escape sequence '\\d'\n",
      "  age = get_pattern('age (\\d+)', text)\n",
      "C:\\Users\\Dung Nguyxn\\AppData\\Local\\Temp\\ipykernel_104872\\1247698762.py:4: SyntaxWarning: invalid escape sequence '\\('\n",
      "  birth_date = get_pattern('Born.*\\n(.*)\\(age',text)\n",
      "C:\\Users\\Dung Nguyxn\\AppData\\Local\\Temp\\ipykernel_104872\\1247698762.py:5: SyntaxWarning: invalid escape sequence '\\('\n",
      "  birth_place = get_pattern('\\(age.*\\n(.*)',text)\n"
     ]
    }
   ],
   "source": [
    "def get_personal_info(text):\n",
    "    age = get_pattern('age (\\d+)', text)\n",
    "    full_name = get_pattern('Born(.*)\\n',text)\n",
    "    birth_date = get_pattern('Born.*\\n(.*)\\(age',text)\n",
    "    birth_place = get_pattern('\\(age.*\\n(.*)',text)\n",
    "\n",
    "    return {\n",
    "        'age': int(age),\n",
    "        'name': full_name.strip(),\n",
    "        'birth_date': birth_date.strip(),\n",
    "        'birth_place': birth_place.strip()\n",
    "    }"
   ]
  },
  {
   "cell_type": "code",
   "execution_count": 15,
   "metadata": {},
   "outputs": [
    {
     "data": {
      "text/plain": [
       "{'age': 50,\n",
       " 'name': 'Elon Reeve Musk',\n",
       " 'birth_date': 'June 28, 1971',\n",
       " 'birth_place': 'Pretoria, Transvaal, South Africa'}"
      ]
     },
     "execution_count": 15,
     "metadata": {},
     "output_type": "execute_result"
    }
   ],
   "source": [
    "get_personal_info(text)"
   ]
  },
  {
   "cell_type": "markdown",
   "metadata": {},
   "source": [
    "1 - Regex in customer support"
   ]
  }
 ],
 "metadata": {
  "kernelspec": {
   "display_name": "Python 3",
   "language": "python",
   "name": "python3"
  },
  "language_info": {
   "codemirror_mode": {
    "name": "ipython",
    "version": 3
   },
   "file_extension": ".py",
   "mimetype": "text/x-python",
   "name": "python",
   "nbconvert_exporter": "python",
   "pygments_lexer": "ipython3",
   "version": "3.12.1"
  }
 },
 "nbformat": 4,
 "nbformat_minor": 2
}
