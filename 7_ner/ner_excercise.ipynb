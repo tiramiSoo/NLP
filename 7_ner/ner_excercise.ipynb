{
 "cells": [
  {
   "cell_type": "markdown",
   "id": "d53d9e1c",
   "metadata": {},
   "source": [
    "Excercise: 1\n",
    "- Extract all the Geographical (cities, Countries, states) names from a given text"
   ]
  },
  {
   "cell_type": "code",
   "execution_count": 1,
   "id": "e9e903ca",
   "metadata": {},
   "outputs": [],
   "source": [
    "import spacy\n",
    "nlp = spacy.load(\"en_core_web_sm\")"
   ]
  },
  {
   "cell_type": "code",
   "execution_count": 2,
   "id": "cf1ef15d",
   "metadata": {},
   "outputs": [],
   "source": [
    "text = \"\"\"Kiran want to know the famous foods in each state of India. So, he opened Google and search for this question. Google showed that\n",
    "in Delhi it is Chaat, in Gujarat it is Dal Dhokli, in Tamilnadu it is Pongal, in Andhrapradesh it is Biryani, in Assam it is Papaya Khar,\n",
    "in Bihar it is Litti Chowkha and so on for all other states\"\"\""
   ]
  },
  {
   "cell_type": "code",
   "execution_count": 14,
   "id": "4cc3d0a3",
   "metadata": {},
   "outputs": [
    {
     "name": "stdout",
     "output_type": "stream",
     "text": [
      "Geographical location names: India, Delhi, Gujarat, Tamilnadu, Andhrapradesh, Assam, Bihar\n",
      "Count: 7\n"
     ]
    }
   ],
   "source": [
    "doc = nlp(text)\n",
    "\n",
    "geo = []\n",
    "\n",
    "from spacy.tokens import Span\n",
    "\n",
    "s1 = Span(doc, 0, 1, label=\"PERSON\")\n",
    "doc.set_ents([s1], default=\"unmodified\")\n",
    "\n",
    "for ent in doc.ents:\n",
    "    if ent.label_ == \"GPE\":\n",
    "        geo.append(ent.text)\n",
    "\n",
    "print(\"Geographical location names:\",\", \".join(geo))\n",
    "print(\"Count:\", len(geo))"
   ]
  },
  {
   "cell_type": "markdown",
   "id": "b61a53a8",
   "metadata": {},
   "source": [
    "Excercise: 2\n",
    "- Extract all the birth dates of cricketers in the given Text"
   ]
  },
  {
   "cell_type": "code",
   "execution_count": 15,
   "id": "8446b5ea",
   "metadata": {},
   "outputs": [],
   "source": [
    "text = \"\"\"Sachin Tendulkar was born on 24 April 1973, Virat Kholi was born on 5 November 1988, Dhoni was born on 7 July 1981\n",
    "and finally Ricky ponting was born on 19 December 1974.\"\"\""
   ]
  },
  {
   "cell_type": "code",
   "execution_count": 20,
   "id": "b1cb4480",
   "metadata": {},
   "outputs": [
    {
     "name": "stdout",
     "output_type": "stream",
     "text": [
      "All birth dates: ['24 April 1973', '5 November 1988', '7 July 1981', '19 December 1974']\n",
      "Count: 4\n"
     ]
    }
   ],
   "source": [
    "doc = nlp(text)\n",
    "\n",
    "date = []\n",
    "\n",
    "for ent in doc.ents:\n",
    "    if ent.label_ == \"DATE\":\n",
    "        date.append(ent.text)\n",
    "\n",
    "print(\"All birth dates:\",date)\n",
    "print(\"Count:\", len(date))"
   ]
  }
 ],
 "metadata": {
  "kernelspec": {
   "display_name": "Python 3",
   "language": "python",
   "name": "python3"
  },
  "language_info": {
   "codemirror_mode": {
    "name": "ipython",
    "version": 3
   },
   "file_extension": ".py",
   "mimetype": "text/x-python",
   "name": "python",
   "nbconvert_exporter": "python",
   "pygments_lexer": "ipython3",
   "version": "3.12.9"
  }
 },
 "nbformat": 4,
 "nbformat_minor": 5
}
