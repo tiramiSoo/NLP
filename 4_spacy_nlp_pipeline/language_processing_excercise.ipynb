{
 "cells": [
  {
   "cell_type": "markdown",
   "id": "64347c99",
   "metadata": {},
   "source": [
    "Spacy Language Processing Pipelines: Exercises"
   ]
  },
  {
   "cell_type": "code",
   "execution_count": 2,
   "id": "d114f464",
   "metadata": {},
   "outputs": [],
   "source": [
    "import spacy\n",
    "nlp = spacy.load(\"en_core_web_sm\")"
   ]
  },
  {
   "cell_type": "markdown",
   "id": "b426af40",
   "metadata": {},
   "source": [
    "Excercise: 1\n",
    "- Get all the proper nouns from a given text in a list and also count how many of them.\n",
    "- Proper Noun means a noun that names a particular person, place, or thing."
   ]
  },
  {
   "cell_type": "code",
   "execution_count": 26,
   "id": "b055eaaa",
   "metadata": {},
   "outputs": [],
   "source": [
    "text = ''' Ravi and Raju are the best friends from school days.They wanted to go for a world tour and \n",
    "visit famous cities like Paris, London, Dubai, Rome etc and also they called their another friend Mohan to take part of this world tour.\n",
    "They started their journey from Hyderabad and spent next 3 months travelling all the wonderful cities in the world and cherish a happy moments!\n",
    "'''"
   ]
  },
  {
   "cell_type": "code",
   "execution_count": 31,
   "id": "75bd922d",
   "metadata": {},
   "outputs": [
    {
     "name": "stdout",
     "output_type": "stream",
     "text": [
      "Proper Nouns: [Ravi, Raju, Paris, London, Dubai, Rome, Mohan, Hyderabad]\n",
      "Count: 8\n"
     ]
    }
   ],
   "source": [
    "doc = nlp(text)\n",
    "\n",
    "proper_nouns = []\n",
    "\n",
    "for token in doc:\n",
    "    if token.pos_ == \"PROPN\":\n",
    "        proper_nouns.append(token)\n",
    "\n",
    "print(\"Proper Nouns:\", proper_nouns)\n",
    "print(\"Count:\", len(proper_nouns))\n"
   ]
  },
  {
   "cell_type": "markdown",
   "id": "779b2a36",
   "metadata": {},
   "source": [
    "Excersie: 2\n",
    "- Get all companies names from a given text and also the count of them.\n",
    "- Hint: Use the spacy ner functionality"
   ]
  },
  {
   "cell_type": "code",
   "execution_count": 32,
   "id": "6bc29e57",
   "metadata": {},
   "outputs": [],
   "source": [
    "text = '''The Top 5 companies in USA are Tesla, Walmart, Amazon, Microsoft, Google and the top 5 companies in \n",
    "India are Infosys, Reliance, HDFC Bank, Hindustan Unilever and Bharti Airtel'''"
   ]
  },
  {
   "cell_type": "code",
   "execution_count": 34,
   "id": "83ae62f1",
   "metadata": {},
   "outputs": [
    {
     "name": "stdout",
     "output_type": "stream",
     "text": [
      "Companies Names: [Tesla, Walmart, Amazon, Microsoft, Google, Infosys, Reliance, HDFC Bank, Hindustan Unilever, Bharti Airtel]\n",
      "Count: 10\n"
     ]
    }
   ],
   "source": [
    "doc = nlp(text)\n",
    "\n",
    "source_nlp = spacy.load(\"en_core_web_sm\")\n",
    "nlp = spacy.blank(\"en\")\n",
    "nlp.add_pipe(\"ner\", source=source_nlp)\n",
    "\n",
    "companies = []\n",
    "\n",
    "for ent in doc.ents:\n",
    "    if ent.label_ == \"ORG\":\n",
    "        companies.append(ent)\n",
    "\n",
    "print(\"Companies Names:\", companies)\n",
    "print(\"Count:\", len(companies))"
   ]
  }
 ],
 "metadata": {
  "kernelspec": {
   "display_name": "Python 3",
   "language": "python",
   "name": "python3"
  },
  "language_info": {
   "codemirror_mode": {
    "name": "ipython",
    "version": 3
   },
   "file_extension": ".py",
   "mimetype": "text/x-python",
   "name": "python",
   "nbconvert_exporter": "python",
   "pygments_lexer": "ipython3",
   "version": "3.12.9"
  }
 },
 "nbformat": 4,
 "nbformat_minor": 5
}
