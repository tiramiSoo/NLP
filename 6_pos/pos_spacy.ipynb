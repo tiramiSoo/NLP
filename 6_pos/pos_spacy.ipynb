{
 "cells": [
  {
   "cell_type": "code",
   "execution_count": 2,
   "id": "f06f4e45",
   "metadata": {},
   "outputs": [],
   "source": [
    "import spacy\n",
    "\n",
    "nlp = spacy.load(\"en_core_web_sm\")"
   ]
  },
  {
   "cell_type": "code",
   "execution_count": 10,
   "id": "d4772db1",
   "metadata": {},
   "outputs": [
    {
     "name": "stdout",
     "output_type": "stream",
     "text": [
      "Elon  |  PROPN  |  proper noun  |  NNP  |  noun, proper singular\n",
      "flew  |  VERB  |  verb  |  VBD  |  verb, past tense\n",
      "to  |  ADP  |  adposition  |  IN  |  conjunction, subordinating or preposition\n",
      "Mars  |  PROPN  |  proper noun  |  NNP  |  noun, proper singular\n",
      "last  |  ADJ  |  adjective  |  JJ  |  adjective (English), other noun-modifier (Chinese)\n",
      "2  |  NUM  |  numeral  |  CD  |  cardinal number\n",
      "week  |  NOUN  |  noun  |  NN  |  noun, singular or mass\n",
      ".  |  PUNCT  |  punctuation  |  .  |  punctuation mark, sentence closer\n",
      "He  |  PRON  |  pronoun  |  PRP  |  pronoun, personal\n",
      "was  |  AUX  |  auxiliary  |  VBD  |  verb, past tense\n",
      "born  |  VERB  |  verb  |  VBN  |  verb, past participle\n",
      "in  |  ADP  |  adposition  |  IN  |  conjunction, subordinating or preposition\n",
      "South  |  PROPN  |  proper noun  |  NNP  |  noun, proper singular\n",
      "Africa  |  PROPN  |  proper noun  |  NNP  |  noun, proper singular\n",
      ".  |  PUNCT  |  punctuation  |  .  |  punctuation mark, sentence closer\n"
     ]
    }
   ],
   "source": [
    "doc = nlp(\"Elon flew to Mars last 2 week. He was born in South Africa.\")\n",
    "\n",
    "for token in doc:\n",
    "    print(token, \" | \", token.pos_, \" | \", spacy.explain(token.pos_), \" | \", token.tag_, \" | \", spacy.explain(token.tag_))"
   ]
  },
  {
   "cell_type": "code",
   "execution_count": 11,
   "id": "cb4f1614",
   "metadata": {},
   "outputs": [
    {
     "name": "stdout",
     "output_type": "stream",
     "text": [
      "[Elon, flew, to, Mars, last, 2, week, He, was, born, in, South, Africa]\n"
     ]
    }
   ],
   "source": [
    "doc = nlp(\"Elon flew to Mars last 2 week. He was born in South Africa.\")\n",
    "\n",
    "filtered_tokens = []\n",
    "\n",
    "for token in doc:\n",
    "    if token.pos_ not in [\"PUNCT\", \"SPACE\"]:\n",
    "        filtered_tokens.append(token)\n",
    "print(filtered_tokens)"
   ]
  },
  {
   "cell_type": "code",
   "execution_count": 15,
   "id": "2d46c230",
   "metadata": {},
   "outputs": [
    {
     "data": {
      "text/plain": [
       "{96: 4, 100: 2, 85: 2, 84: 1, 93: 1, 92: 1, 97: 2, 95: 1, 87: 1}"
      ]
     },
     "execution_count": 15,
     "metadata": {},
     "output_type": "execute_result"
    }
   ],
   "source": [
    "count = doc.count_by(spacy.attrs.POS)\n",
    "count"
   ]
  },
  {
   "cell_type": "code",
   "execution_count": 16,
   "id": "67627a5b",
   "metadata": {},
   "outputs": [
    {
     "name": "stdout",
     "output_type": "stream",
     "text": [
      "PROPN  |  4\n",
      "VERB  |  2\n",
      "ADP  |  2\n",
      "ADJ  |  1\n",
      "NUM  |  1\n",
      "NOUN  |  1\n",
      "PUNCT  |  2\n",
      "PRON  |  1\n",
      "AUX  |  1\n"
     ]
    }
   ],
   "source": [
    "for k,v in count.items():\n",
    "    print(doc.vocab[k].text, \" | \", v)"
   ]
  }
 ],
 "metadata": {
  "kernelspec": {
   "display_name": "Python 3",
   "language": "python",
   "name": "python3"
  },
  "language_info": {
   "codemirror_mode": {
    "name": "ipython",
    "version": 3
   },
   "file_extension": ".py",
   "mimetype": "text/x-python",
   "name": "python",
   "nbconvert_exporter": "python",
   "pygments_lexer": "ipython3",
   "version": "3.12.9"
  }
 },
 "nbformat": 4,
 "nbformat_minor": 5
}
