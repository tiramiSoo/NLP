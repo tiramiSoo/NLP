{
 "cells": [
  {
   "cell_type": "code",
   "execution_count": 1,
   "id": "6ffb1860",
   "metadata": {},
   "outputs": [],
   "source": [
    "import spacy\n",
    "nlp = spacy.load(\"en_core_web_sm\")"
   ]
  },
  {
   "cell_type": "markdown",
   "id": "dd577a4e",
   "metadata": {},
   "source": [
    "Exercise1:\n",
    "\n",
    "- From a Given Text, Count the number of stop words in it.\n",
    "- Print the percentage of stop word tokens compared to all tokens in a given text."
   ]
  },
  {
   "cell_type": "code",
   "execution_count": 2,
   "id": "7d14d421",
   "metadata": {},
   "outputs": [],
   "source": [
    "text = '''\n",
    "Thor: Love and Thunder is a 2022 American superhero film based on Marvel Comics featuring the character Thor, produced by Marvel Studios and \n",
    "distributed by Walt Disney Studios Motion Pictures. It is the sequel to Thor: Ragnarok (2017) and the 29th film in the Marvel Cinematic Universe (MCU).\n",
    "The film is directed by Taika Waititi, who co-wrote the script with Jennifer Kaytin Robinson, and stars Chris Hemsworth as Thor alongside Christian Bale, Tessa Thompson,\n",
    "Jaimie Alexander, Waititi, Russell Crowe, and Natalie Portman. In the film, Thor attempts to find inner peace, but must return to action and recruit Valkyrie (Thompson),\n",
    "Korg (Waititi), and Jane Foster (Portman)—who is now the Mighty Thor—to stop Gorr the God Butcher (Bale) from eliminating all gods.\n",
    "'''"
   ]
  },
  {
   "cell_type": "code",
   "execution_count": 28,
   "id": "33c2ccf9",
   "metadata": {},
   "outputs": [
    {
     "name": "stdout",
     "output_type": "stream",
     "text": [
      "Number of stop words: 40\n",
      "Percent of not stop words compared: 25.0%\n"
     ]
    }
   ],
   "source": [
    "doc = nlp(text)\n",
    "stop_words = [token.text for token in doc if token.is_stop]\n",
    "print(f\"Number of stop words: {len(stop_words)}\")\n",
    "print(f\"Percent of not stop words compared: {len(stop_words)/len(doc)*100}%\")"
   ]
  },
  {
   "cell_type": "markdown",
   "id": "1b5a4f0d",
   "metadata": {},
   "source": [
    "Exercise2:\n",
    "\n",
    "- Spacy default implementation considers \"not\" as a stop word. But in some scenarios removing 'not' will completely change the meaning of the statement/text. For Example, consider these two statements:\n",
    "\n",
    "    - this is a good movie       ----> Positive Statement\n",
    "    - this is not a good movie   ----> Negative Statement\n",
    "- So, after applying stopwords to those 2 texts, both will return \"good movie\" and does not respect the polarity/sentiments of text.\n",
    "\n",
    "- Now, your task is to remove this stop word \"not\" in spaCy and help in distinguishing the texts."
   ]
  },
  {
   "cell_type": "code",
   "execution_count": 25,
   "id": "943e096b",
   "metadata": {},
   "outputs": [],
   "source": [
    "def preprocess(text):\n",
    "    doc = nlp(text)\n",
    "    no_stop_words = [token.text for token in doc if not token.is_stop]   \n",
    "    return \" \".join(no_stop_words)\n",
    "\n",
    "nlp.vocab[\"not\"].is_stop = False"
   ]
  },
  {
   "cell_type": "code",
   "execution_count": 26,
   "id": "8dcbd34b",
   "metadata": {},
   "outputs": [
    {
     "data": {
      "text/plain": [
       "'good movie'"
      ]
     },
     "execution_count": 26,
     "metadata": {},
     "output_type": "execute_result"
    }
   ],
   "source": [
    "preprocess(\"this is a good movie\")"
   ]
  },
  {
   "cell_type": "code",
   "execution_count": 27,
   "id": "432504e7",
   "metadata": {},
   "outputs": [
    {
     "data": {
      "text/plain": [
       "'not good movie'"
      ]
     },
     "execution_count": 27,
     "metadata": {},
     "output_type": "execute_result"
    }
   ],
   "source": [
    "preprocess(\"this is not a good movie\")"
   ]
  },
  {
   "cell_type": "markdown",
   "id": "0ea56a20",
   "metadata": {},
   "source": [
    "Exercise3:\n",
    "\n",
    "- From a given text, output the most frequently used token after removing all the stop word tokens and punctuations in it."
   ]
  },
  {
   "cell_type": "code",
   "execution_count": 29,
   "id": "449b88b4",
   "metadata": {},
   "outputs": [],
   "source": [
    "text = ''' The India men's national cricket team, also known as Team India or the Men in Blue, represents India in men's international cricket.\n",
    "It is governed by the Board of Control for Cricket in India (BCCI), and is a Full Member of the International Cricket Council (ICC) with Test,\n",
    "One Day International (ODI) and Twenty20 International (T20I) status. Cricket was introduced to India by British sailors in the 18th century, and the \n",
    "first cricket club was established in 1792. India's national cricket team played its first Test match on 25 June 1932 at Lord's, becoming the sixth team to be\n",
    "granted test cricket status.\n",
    "'''"
   ]
  },
  {
   "cell_type": "code",
   "execution_count": 32,
   "id": "e3911862",
   "metadata": {},
   "outputs": [
    {
     "name": "stdout",
     "output_type": "stream",
     "text": [
      "  India men national cricket team known Team India Men Blue represents India men international cricket \n",
      " governed Board Control Cricket India BCCI Member International Cricket Council ICC Test \n",
      " Day International ODI Twenty20 International T20I status Cricket introduced India British sailors 18th century \n",
      " cricket club established 1792 India national cricket team played Test match 25 June 1932 Lord sixth team \n",
      " granted test cricket status \n",
      "\n"
     ]
    }
   ],
   "source": [
    "doc = nlp(text)\n",
    "\n",
    "used_tokens = [token.text for token in doc if not token.is_stop and not token.is_punct]\n",
    "print(' '.join(used_tokens))"
   ]
  },
  {
   "cell_type": "code",
   "execution_count": 33,
   "id": "7b1f71f4",
   "metadata": {},
   "outputs": [],
   "source": [
    "frequency_tokens = {}\n",
    "for token in used_tokens:\n",
    "    if token != '\\n' and token != ' ':\n",
    "        if token in frequency_tokens:\n",
    "            frequency_tokens[token] += 1\n",
    "        else:\n",
    "            frequency_tokens[token] = 1"
   ]
  },
  {
   "cell_type": "code",
   "execution_count": 35,
   "id": "417b259b",
   "metadata": {},
   "outputs": [
    {
     "name": "stdout",
     "output_type": "stream",
     "text": [
      "Most frequent token: India\n"
     ]
    }
   ],
   "source": [
    "max_freq = max(frequency_tokens.keys(), key=(lambda key: frequency_tokens[key]))\n",
    "print(f\"Most frequent token: {max_freq}\")"
   ]
  }
 ],
 "metadata": {
  "kernelspec": {
   "display_name": "Python 3",
   "language": "python",
   "name": "python3"
  },
  "language_info": {
   "codemirror_mode": {
    "name": "ipython",
    "version": 3
   },
   "file_extension": ".py",
   "mimetype": "text/x-python",
   "name": "python",
   "nbconvert_exporter": "python",
   "pygments_lexer": "ipython3",
   "version": "3.12.9"
  }
 },
 "nbformat": 4,
 "nbformat_minor": 5
}
